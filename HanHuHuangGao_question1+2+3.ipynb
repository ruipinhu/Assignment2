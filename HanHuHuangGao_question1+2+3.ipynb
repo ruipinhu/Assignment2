{
 "cells": [
  {
   "cell_type": "markdown",
   "metadata": {
    "id": "M_jGPQC1hwlq"
   },
   "source": [
    "# Q2(1):\n",
    "### 1. :\n",
    "$$ P(X = k) = (1-p)^{k-1}p $$\n",
    "It represents the probability that the first success occurs exactly on the k-th trial,where $k = 1, 2, 3, ...$ and $0 < p \\leq 1$\n",
    "\n",
    "\n",
    "### 2. CDF of geometric distribution:\n",
    "$$ F(k) = P(X \\leq k) = 1 - (1-p)^k $$\n",
    "\n",
    "\n",
    "### 3. PPF of geometric distribution:\n",
    "$$ \\text{PPF}(q) = \\min \\{ k \\in \\mathbb{N}^+ \\mid P(X \\leq k) \\geq q \\} $$\n",
    "where $0 < q < 1$\n",
    "\n",
    "\n",
    "### 4. Expected Value:\n",
    "$$ E[X] = \\frac{1}{p} $$\n",
    "\n",
    "### 5. Variance:\n",
    "$$ Var(X) = \\frac{1-p}{p^2} $$"
   ]
  },

 "cells": [
    {
      "cell_type": "markdown",
      "metadata": {},
      "source": [
        "# Problem (a) Solution: One-Sample t-test"
      ]
    },
    {
      "cell_type": "markdown",
      "metadata": {},
      "source": [
        "### 1. State the Hypotheses\n",
        "- Null hypothesis ($H_0$): The mean part length equals the standard value.\n",
        "  $H_0: \\mu = 10.0 \\, \\text{cm}$\n",
        "- Alternative hypothesis ($H_1$): The mean part length is significantly different from the standard value.\n",
        "  $H_1: \\mu \\neq 10.0 \\, \\text{cm}$ (Two-tailed test)"
      ]
    },
    {
      "cell_type": "code",
      "metadata": {},
      "source": [
        "# Given data\n",
        "sample_mean = 10.06  # Sample mean (cm)\n",
        "pop_mean = 10.0      # Hypothesized population mean (cm)\n",
        "sample_std = 0.19    # Sample standard deviation (cm)\n",
        "n = 25               # Sample size\n",
        "alpha = 0.05         # Significance level\n",
        "\n",
        "# Calculate test statistic (t-value)\n",
        "import numpy as np\n",
        "t_stat = (sample_mean - pop_mean) / (sample_std / np.sqrt(n))\n",
        "\n",
        "# Calculate critical t-value\n",
        "from scipy import stats\n",
        "df = n - 1  # Degrees of freedom\n",
        "t_critical = stats.t.ppf(1 - alpha/2, df)  # Two-tailed critical value\n",
        "\n",
        "print(f'Test statistic (t): {t_stat:.4f}')\n",
        "print(f'Degrees of freedom: {df}')\n",
        "print(f'Critical t-values: ±{t_critical:.4f}')"
      ],
      "execution_count": 1,
      "outputs": [
        {
          "output_type": "stream",
          "name": "stdout",
          "text": [
            "Test statistic (t): 1.5789\n",
            "Degrees of freedom: 24\n",
            "Critical t-values: ±2.0639\n"
          ]
        }
      ]
    },
    {
      "cell_type": "markdown",
      "metadata": {},
      "source": [
        "### 2. Rejection Region\n",
        "The rejection region for a two-tailed test with $\\alpha = 0.05$ and $df = 24$ is:\n",
        "$t < -2.0639$ or $t > 2.0639$"
      ]
    },
    {
      "cell_type": "markdown",
      "metadata": {},
      "source": [
        "### 3. Conclusion\n",
        "The calculated test statistic ($t = 1.5789$) falls within the non-rejection region ($-2.0639 < 1.5789 < 2.0639$).\n",
        "\n",
        "We fail to reject the null hypothesis $H_0$. At the $\\alpha = 0.05$ significance level, there is insufficient evidence to conclude that the mean part length differs from the standard value of 10.0 cm."
      ]
    }，
  {
   "cell_type": "markdown",
   "metadata": {
    "id": "yzo9O0uH1bzs"
   },
   "source": [
    "(a): Calculate the probability P(K = 4)"
   ]
  },
  {
   "cell_type": "code",
   "execution_count": 9,
   "metadata": {
    "colab": {
     "base_uri": "https://localhost:8080/"
    },
    "executionInfo": {
     "elapsed": 23,
     "status": "ok",
     "timestamp": 1760431841972,
     "user": {
      "displayName": "韩冠宇",
      "userId": "17254618247528365656"
     },
     "user_tz": -480
    },
    "id": "gHKD2DsP1QF1",
    "outputId": "773b4819-e489-47c1-8f33-f541b0b38170"
   },
   "outputs": [
    {
     "name": "stdout",
     "output_type": "stream",
     "text": [
      "a. P(K = 4) = 0.1024\n"
     ]
    }
   ],
   "source": [
    "import numpy as np\n",
    "from scipy.stats import geom\n",
    "\n",
    "# Set the success probability\n",
    "p = 0.2\n",
    "\n",
    "# Calculate P(K = 4) using PMF\n",
    "p4 = geom.pmf(k=4, p=p)\n",
    "\n",
    "print(f\"a. P(K = 4) = {p4:.4f}\")"
   ]
  },
  {
   "cell_type": "markdown",
   "metadata": {
    "id": "1Fym6LP61pVA"
   },
   "source": [
    "(b): Calculate the probability P(K ≤ 3)"
   ]
  },
  {
   "cell_type": "code",
   "execution_count": 10,
   "metadata": {
    "colab": {
     "base_uri": "https://localhost:8080/"
    },
    "executionInfo": {
     "elapsed": 4,
     "status": "ok",
     "timestamp": 1760431843789,
     "user": {
      "displayName": "韩冠宇",
      "userId": "17254618247528365656"
     },
     "user_tz": -480
    },
    "id": "rNNCcFp_13FT",
    "outputId": "be25e4a2-f629-41d3-8685-e2d732ef41d4"
   },
   "outputs": [
    {
     "name": "stdout",
     "output_type": "stream",
     "text": [
      "b. P(K ≤ 3) = 0.4880\n"
     ]
    }
   ],
   "source": [
    "# Calculate P(K ≤ 3) using CDF\n",
    "p3 = geom.cdf(k=3, p=p)\n",
    "\n",
    "print(f\"b. P(K ≤ 3) = {p3:.4f}\")"
   ]
  },
  {
   "cell_type": "markdown",
   "metadata": {
    "id": "CRhsYDQh16iV"
   },
   "source": [
    "(c): Calculate the 0.7 quantile"
   ]
  },
  {
   "cell_type": "code",
   "execution_count": 11,
   "metadata": {
    "colab": {
     "base_uri": "https://localhost:8080/"
    },
    "executionInfo": {
     "elapsed": 3,
     "status": "ok",
     "timestamp": 1760431845088,
     "user": {
      "displayName": "韩冠宇",
      "userId": "17254618247528365656"
     },
     "user_tz": -480
    },
    "id": "6bs5oLk61wcZ",
    "outputId": "ac5bed38-6037-4c12-efed-5ecb16d0f5bf"
   },
   "outputs": [
    {
     "name": "stdout",
     "output_type": "stream",
     "text": [
      "c. The 0.7 quantile is: 6\n",
      "   This means P(X ≤ 6) ≥ 0.7\n"
     ]
    }
   ],
   "source": [
    "# Calculate 0.7 quantile using PPF. The quantile is the smallest k where P(X ≤ k) ≥ 0.7\n",
    "quantile_07 = geom.ppf(q=0.7, p=p)\n",
    "\n",
    "print(f\"c. The 0.7 quantile is: {int(quantile_07)}\")\n",
    "print(f\"   This means P(X ≤ {int(quantile_07)}) ≥ 0.7\")"
   ]
  },
  {
   "cell_type": "markdown",
   "metadata": {
    "id": "ANapMCw_2Fvn"
   },
   "source": [
    "(d): Generate n = 100 random samples from this distribution"
   ]
  },
  {
   "cell_type": "code",
   "execution_count": 12,
   "metadata": {
    "colab": {
     "base_uri": "https://localhost:8080/"
    },
    "executionInfo": {
     "elapsed": 14,
     "status": "ok",
     "timestamp": 1760431846812,
     "user": {
      "displayName": "韩冠宇",
      "userId": "17254618247528365656"
     },
     "user_tz": -480
    },
    "id": "sRwtG1TV2Ie8",
    "outputId": "30ac0ff5-ac17-498d-ba39-2c9bc6d8da6f"
   },
   "outputs": [
    {
     "name": "stdout",
     "output_type": "stream",
     "text": [
      "d. All 100 random samples:\n",
      "[ 3 14  6  5  1  1  1 10  5  6]\n",
      "[ 1 16  9  2  1  1  2  4  3  2]\n",
      "[5 1 2 3 3 7 1 4 5 1]\n",
      "[ 5  1  1 14 16  8  2  1  6  3]\n",
      "[ 1  4  1 11  2  5  2  4  4  1]\n",
      "[16  7 13 11  5 12  1  1  1  2]\n",
      "[ 3  2  8  2  2  4  1  8  1 20]\n",
      "[7 1 1 8 6 6 7 1 2 1]\n",
      "[ 9  5  2  1  2  2  6  5 10  3]\n",
      "[1 6 7 4 7 4 4 3 1 1]\n"
     ]
    }
   ],
   "source": [
    "np.random.seed(42)  # Set seed for reproducibility\n",
    "\n",
    "# Generate 100 random samples from geometric distribution\n",
    "samples = geom.rvs(p=p, size=100)\n",
    "\n",
    "# Display samples\n",
    "print(\"d. All 100 random samples:\")\n",
    "for i in range(0, 100, 10):\n",
    "    print(samples[i:i + 10])"
   ]
  },
  {
   "cell_type": "markdown",
   "metadata": {
    "id": "0V-AVW_s2cKz"
   },
   "source": [
    "# Q1(2): Chi-Squared Distribution (df = 4)\n",
    "The chi-squared distribution is a **continuous probability distribution**, denoted as $\\chi^2(\\nu)$, where $\\nu$ (pronounced \"nu\") represents the **degrees of freedom** — a positive integer parameter that defines the distribution's shape.\n",
    "\n",
    "### 1. PDF\n",
    "The PDF describes the relative likelihood of the random variable taking a specific value $x$:\n",
    "$$ f(x; \\nu) = \\begin{cases}\n",
    "    \\frac{1}{2^{\\nu/2} \\Gamma(\\nu/2)} x^{\\nu/2 - 1} e^{-x/2} & \\text{if } x > 0, \\\\ 0 & \\text{if } x \\leq 0\n",
    "\\end{cases} $$\n",
    "\n",
    "### 2. CDF\n",
    "The CDF gives the probability that the random variable $X$ is less than or equal to a value $x$:\n",
    "$$ F(x; \\nu) = P(X \\leq x) = \\frac{1}{2^{\\nu/2} \\Gamma(\\nu/2)} \\int_{0}^{x} t^{\\nu/2 - 1} e^{-t/2} dt $$\n",
    "\n",
    "### 3. PPF\n",
    "The PPF is the inverse of the CDF, returning the smallest $x$ such that cumulative probability is at least $q$:\n",
    "$$ \\text{PPF}(q; \\nu) = \\min \\{ x \\geq 0 \\mid F(x; \\nu) \\geq q \\} $$"
   ]
  },
  {
   "cell_type": "markdown",
   "metadata": {
    "id": "i94V5VOd226r"
   },
   "source": [
    "(a): Calculate the density function at x = 2"
   ]
  },
  {
   "cell_type": "code",
   "execution_count": null,
   "metadata": {
    "colab": {
     "base_uri": "https://localhost:8080/"
    },
    "executionInfo": {
     "elapsed": 44,
     "status": "ok",
     "timestamp": 1760430899279,
     "user": {
      "displayName": "韩冠宇",
      "userId": "17254618247528365656"
     },
     "user_tz": -480
    },
    "id": "O7fmMFcU27Qo",
    "outputId": "a4e79dce-accc-4f54-f432-ecca4f4248c2"
   },
   "outputs": [
    {
     "name": "stdout",
     "output_type": "stream",
     "text": [
      "a. Density function at x = 2: 0.1839\n"
     ]
    }
   ],
   "source": [
    "import numpy as np\n",
    "from scipy.stats import chi2\n",
    "\n",
    "df = 4  # Degrees of freedom\n",
    "x_value = 2\n",
    "\n",
    "# Calculate PDF at x = 2\n",
    "pdf_value = chi2.pdf(x=x_value, df=df)\n",
    "\n",
    "print(f\"a. Density function at x = 2: {pdf_value:.4f}\")"
   ]
  },
  {
   "cell_type": "markdown",
   "metadata": {
    "id": "-izT2Kvm28yI"
   },
   "source": [
    "(b): Calculate the probability P(X ≤ 3)"
   ]
  },
  {
   "cell_type": "code",
   "execution_count": null,
   "metadata": {
    "colab": {
     "base_uri": "https://localhost:8080/"
    },
    "executionInfo": {
     "elapsed": 16,
     "status": "ok",
     "timestamp": 1760430928694,
     "user": {
      "displayName": "韩冠宇",
      "userId": "17254618247528365656"
     },
     "user_tz": -480
    },
    "id": "SNQQXDku3Al3",
    "outputId": "e9eaa1d2-e8f3-433d-a52e-1edc46678a73"
   },
   "outputs": [
    {
     "name": "stdout",
     "output_type": "stream",
     "text": [
      "b. P(X ≤ 3) = 0.4422\n"
     ]
    }
   ],
   "source": [
    "# Calculate CDF at x = 3\n",
    "cdf_value = chi2.cdf(x=3, df=df)\n",
    "\n",
    "print(f\"b. P(X ≤ 3) = {cdf_value:.4f}\")"
   ]
  },
  {
   "cell_type": "markdown",
   "metadata": {
    "id": "VtwS18Oo3Dzx"
   },
   "source": [
    "c: Find x such that P(X ≤ x) = 0.9"
   ]
  },
  {
   "cell_type": "code",
   "execution_count": null,
   "metadata": {
    "colab": {
     "base_uri": "https://localhost:8080/"
    },
    "executionInfo": {
     "elapsed": 10,
     "status": "ok",
     "timestamp": 1760430945748,
     "user": {
      "displayName": "韩冠宇",
      "userId": "17254618247528365656"
     },
     "user_tz": -480
    },
    "id": "g1MpllMb3Frq",
    "outputId": "d8d7762f-4008-489d-dd82-95606658debf"
   },
   "outputs": [
    {
     "name": "stdout",
     "output_type": "stream",
     "text": [
      "c. x value where P(X ≤ x) = 0.9: 7.7794\n"
     ]
    }
   ],
   "source": [
    "# Calculate PPF for 0.9 quantile\n",
    "x_quantile = chi2.ppf(q=0.9, df=df)\n",
    "\n",
    "print(f\"c. x value where P(X ≤ x) = 0.9: {x_quantile:.4f}\")"
   ]
  },
  {
   "cell_type": "markdown",
   "metadata": {
    "id": "rYyx3vw53HvI"
   },
   "source": [
    "(d): Generate n = 100 random samples from this distribution"
   ]
  },
  {
   "cell_type": "code",
   "execution_count": 13,
   "metadata": {
    "colab": {
     "base_uri": "https://localhost:8080/"
    },
    "executionInfo": {
     "elapsed": 49,
     "status": "ok",
     "timestamp": 1760432187174,
     "user": {
      "displayName": "韩冠宇",
      "userId": "17254618247528365656"
     },
     "user_tz": -480
    },
    "id": "_gNIxmwy3L47",
    "outputId": "a27d670f-2e86-4a6c-aa9d-ea01d5f500b6"
   },
   "outputs": [
    {
     "name": "stdout",
     "output_type": "stream",
     "text": [
      "d. All 100 random samples:\n",
      "[7.8293 0.4282 3.803  1.9687 3.347  1.2205 4.3156 1.656  4.9672 2.8715]\n",
      "[ 2.443   1.366  10.2081  1.5957  6.8239  1.3509  3.7784  7.9333  5.5843\n",
      "  4.581 ]\n",
      "[ 2.0098  3.0912  3.5792  6.0702  4.7069  5.8974  1.2457  0.774  10.0796\n",
      "  0.8167]\n",
      "[0.5947 6.7276 7.9215 4.3702 3.9349 2.8505 1.0213 7.4094 5.5649 0.8882]\n",
      "[ 7.7296  7.3216  0.1144  3.8953  3.0218  2.3769  3.7926 15.3685  5.99\n",
      "  5.6067]\n",
      "[ 5.1707  4.5785  1.4205 10.5233  9.3166  1.3063  2.1331  0.889   3.2499\n",
      "  1.2126]\n",
      "[4.001  1.0671 2.7251 1.4922 7.7459 1.1077 2.2533 1.4267 1.0964 3.8916]\n",
      "[1.2424 5.3635 4.294  8.9841 2.7803 6.0094 0.1111 7.3028 4.2877 1.1902]\n",
      "[ 2.1652  4.8669  3.2506  3.6271  3.8639 11.2818  3.2629  2.7794  9.8722\n",
      "  3.821 ]\n",
      "[ 2.8826  2.5476  3.888   4.5332 10.8734  7.3189  0.9733  1.1701  0.6228\n",
      "  3.6409]\n"
     ]
    }
   ],
   "source": [
    "np.random.seed(5102)  # Set seed for reproducibility\n",
    "samples2 = chi2.rvs(df=df, size=100)\n",
    "\n",
    "print(\"d. All 100 random samples:\")\n",
    "# Display 10 samples per line for readability\n",
    "for i in range(0, 100, 10):\n",
    "    print(samples2[i:i+10].round(4))  # Display with 4 decimal places"
   ]
  },
  {
   "cell_type": "markdown",
   "metadata": {
    "id": "qAI-VpERXDH0"
   },
   "source": [
    "### Q2 Steps for MLE derivations\n",
    "\n",
    "$P(X=x) = \\frac{e^{-\\lambda} \\lambda^x}{x!}$, $x = 0, 1, 2, \\ldots$\n",
    "\n",
    "$L(\\lambda) = \\prod_{i=1}^n \\frac{e^{-\\lambda} \\lambda^{X_i}}{X_i!}$\n",
    "\n",
    "$l(\\lambda) = \\ln L(\\lambda) = \\ln \\left( \\prod_{i=1}^n \\frac{e^{-\\lambda} \\lambda^{X_i}}{X_i!} \\right) = \\sum_{i=1}^n [-\\lambda + X_i \\cdot \\ln(\\lambda) - \\ln(X_i!)] = -n\\lambda + \\ln(\\lambda) \\cdot \\sum X_i - \\sum \\ln(X_i!)$\n",
    "\n",
    "$\\frac{dl}{d\\lambda} = -n + \\frac{1}{\\lambda} \\cdot \\sum X_i = 0$\n",
    "\n",
    "$\\hat{\\lambda} = \\frac{\\sum X_i}{n} = \\bar{X}$\n"
   ]
  },
  {
   "cell_type": "code",
   "execution_count": null,
   "metadata": {
    "colab": {
     "base_uri": "https://localhost:8080/"
    },
    "executionInfo": {
     "elapsed": 1047,
     "status": "ok",
     "timestamp": 1760355472803,
     "user": {
      "displayName": "韩冠宇",
      "userId": "17254618247528365656"
     },
     "user_tz": -480
    },
    "id": "A0OWlpsWXDgp",
    "outputId": "9a84343c-4c9d-40c5-b3a7-cabc97252128"
   },
   "outputs": [
    {
     "name": "stdout",
     "output_type": "stream",
     "text": [
      "Generated Poisson samples:\n",
      "[4 2 3 2 6 2 5 5 3 2]\n",
      "[4 6 0 4 4 0 6 7 3 0]\n",
      "[5 1 3 3 1 4 4 3 5 3]\n",
      "[4 3 3 3 3 3 1 2 3 0]\n",
      "[0 1 6 0 2 3 0 2 6 1]\n",
      "[0 5 7 2 7 3 2 3 4 5]\n",
      "[5 1 1 2 5 4 3 2 1 6]\n",
      "[3 3 3 3 5 5 3 5 3 0]\n",
      "[4 3 4 3 1 4 2 4 2 3]\n",
      "[5 4 2 3 6 1 3 0 4 5]\n",
      "λ_true: 3\n",
      "λ_MLE: 3.1000\n",
      "Bias: 0.1000\n",
      "Relative Error: 3.3333%\n"
     ]
    }
   ],
   "source": [
    "import numpy as np\n",
    "from scipy.stats import poisson\n",
    "\n",
    "# Set true parameter and random seed\n",
    "true_lambda = 3\n",
    "np.random.seed(5102)\n",
    "\n",
    "# Generate 100 Poisson distribution samples\n",
    "n = 100\n",
    "samples = poisson.rvs(mu=true_lambda, size=n)\n",
    "\n",
    "# Print the generated samples\n",
    "print(\"Generated Poisson samples:\")\n",
    "for i in range(0, n, 10):\n",
    "    print(samples[i:i+10])\n",
    "\n",
    "# Use MLE to estimate λ\n",
    "mle_estimate = np.mean(samples)\n",
    "\n",
    "# Output results\n",
    "print(f\"λ_true: {true_lambda}\")\n",
    "print(f\"λ_MLE: {mle_estimate:.4f}\")\n",
    "print(f\"Bias: {abs(mle_estimate - true_lambda):.4f}\")\n",
    "print(f\"Relative Error: {abs(mle_estimate - true_lambda)/true_lambda*100:.4f}%\")\n"
   ]
  },
  {
   "cell_type": "markdown",
   "metadata": {
    "id": "rKDfT6LhiI6l"
   },
   "source": [
    "Q3(a) The code shows below:"
   ]
  },
  {
   "cell_type": "code",
   "execution_count": null,
   "metadata": {
    "colab": {
     "base_uri": "https://localhost:8080/"
    },
    "executionInfo": {
     "elapsed": 23,
     "status": "ok",
     "timestamp": 1760360795975,
     "user": {
      "displayName": "韩冠宇",
      "userId": "17254618247528365656"
     },
     "user_tz": -480
    },
    "id": "MQuDCHo8iIVO",
    "outputId": "a624c6a7-a46f-417b-d9a8-bfbf9b6751ba"
   },
   "outputs": [
    {
     "name": "stdout",
     "output_type": "stream",
     "text": [
      "[19.03279277  8.93233502 17.75615606 16.06791378 15.55013996 13.02826755\n",
      " 13.03370052 12.54012923 15.01666745 11.51442865 14.82258273 15.77402198\n",
      " 16.10105655 12.45257174 17.92638049 11.85434412 16.7416956  14.40607808\n",
      "  9.21526676 11.6082878  13.79486831 11.84954475 16.16217348 17.10037\n",
      " 20.53811115 12.33342689 16.12804053 17.53038986 18.30376487 11.81604991\n",
      " 14.50626832 15.92153643 15.52244643 19.1045124  11.78351849 14.12739097\n",
      " 17.29850785 16.36926758 17.13092775 13.34793569 13.09926583 14.69601494\n",
      " 13.9130117  16.11928222 15.29402644 17.70874024 16.49285199 17.56543801\n",
      " 15.60276081 16.94357336]\n",
      "[16.57440293 15.28028957 20.27543931 18.95141562 25.46317848 15.4164306\n",
      " 16.04809873 25.6136073  14.64747499 23.23024311 20.37568918 23.33514293\n",
      " 24.09645351 21.15714382 19.09289425 20.94030699 20.6963712  19.37758897\n",
      " 16.00929827 23.7363922  22.55854595 23.92560686 22.28164683 15.63378998\n",
      " 12.9413721  23.96338422 23.67294631 11.73283064 17.47270584 16.12858235]\n"
     ]
    }
   ],
   "source": [
    "from scipy.stats import norm, t, chi2, f\n",
    "\n",
    "np.random.seed(5102)\n",
    "\n",
    "n1, mu1, sigma1_sq = 50, 15, 10\n",
    "n2, mu2, sigma2_sq = 30, 20, 10\n",
    "data1 = norm.rvs(loc=mu1, scale=np.sqrt(sigma1_sq), size=n1)\n",
    "data2 = norm.rvs(loc=mu2, scale=np.sqrt(sigma2_sq), size=n2)\n",
    "\n",
    "x1_bar = np.mean(data1)  # data1 mean\n",
    "x2_bar = np.mean(data2)  # data2 mean\n",
    "s1_sq = np.var(data1, ddof=1)  # data1 var unbiased\n",
    "s2_sq = np.var(data2, ddof=1)  # data2 var unbiased\n",
    "print(data1[:50])\n",
    "print(data2[:30])"
   ]
  },
  {
   "cell_type": "markdown",
   "metadata": {
    "id": "bUURACJTB_Gy"
   },
   "source": [
    "Q3(b)\n",
    "Because we already know the data variance and we have enough sample size, the Normal distribution is what we need: $$\\bar{X}_1 \\pm z_{\\alpha/2}\\cdot\\frac{\\sigma_1}{\\sqrt{n_1}}$$ in which the $\\alpha=0.01, \\sigma_1=\\sqrt{10}$, the code shows below."
   ]
  },
  {
   "cell_type": "code",
   "execution_count": null,
   "metadata": {
    "colab": {
     "base_uri": "https://localhost:8080/"
    },
    "executionInfo": {
     "elapsed": 45,
     "status": "ok",
     "timestamp": 1759897309502,
     "user": {
      "displayName": "韩冠宇",
      "userId": "17254618247528365656"
     },
     "user_tz": -480
    },
    "id": "A7x4093yiIsG",
    "outputId": "08ecc7a6-8930-4e46-f453-89654010637f"
   },
   "outputs": [
    {
     "name": "stdout",
     "output_type": "stream",
     "text": [
      " the confidence interval of μ1 at 99% confidence level:  (13.877630795682743, 16.181522564151255)\n"
     ]
    }
   ],
   "source": [
    "alpha = 0.01\n",
    "z = norm.ppf(1 - alpha/2)\n",
    "margin_error = z * np.sqrt(sigma1_sq) / np.sqrt(n1)\n",
    "ci_b = (float(x1_bar - margin_error), float(x1_bar + margin_error))\n",
    "print(\" the confidence interval of μ1 at 99% confidence level: \", ci_b)"
   ]
  },
  {
   "cell_type": "markdown",
   "metadata": {
    "id": "JP9wO_tKCoGI"
   },
   "source": [
    "Q3(c) We don't know the data variance this time so we use sample variance in stead, the t-distribution is what we need: $$\\bar{X}_1 \\pm t_{\\alpha/2}(n_1-1)\\cdot\\frac{S_1}{\\sqrt{n_1}}$$ in which the $\\alpha=0.01$, $S_1$ stands for sample standard deviation, the code shows below."
   ]
  },
  {
   "cell_type": "code",
   "execution_count": null,
   "metadata": {
    "colab": {
     "base_uri": "https://localhost:8080/"
    },
    "executionInfo": {
     "elapsed": 17,
     "status": "ok",
     "timestamp": 1759897414966,
     "user": {
      "displayName": "韩冠宇",
      "userId": "17254618247528365656"
     },
     "user_tz": -480
    },
    "id": "ZcS4mgRYCqIU",
    "outputId": "2ecc938d-4bd1-4337-ae3a-1675ca7a5922"
   },
   "outputs": [
    {
     "name": "stdout",
     "output_type": "stream",
     "text": [
      " the confidence interval of μ1 at the 99% confidence level： (14.065453622337854, 15.993699737496145)\n"
     ]
    }
   ],
   "source": [
    "t_val = t.ppf(1 - alpha/2, df=n1-1)\n",
    "margin_error_t = t_val * np.sqrt(s1_sq) / np.sqrt(n1)\n",
    "ci_c = (float(x1_bar - margin_error_t), float(x1_bar + margin_error_t))\n",
    "print(\" the confidence interval of μ1 at the 99% confidence level：\", ci_c)"
   ]
  },
  {
   "cell_type": "markdown",
   "metadata": {
    "id": "QfThcnA1D_U5"
   },
   "source": [
    "Q3(d) Because $\\sigma_1^2=\\sigma_2^2=10$, which means we know the pooled variance, then we use the Two-sample normal interval: $$(\\bar{X}_1 - \\bar{X}_2)\\pm z_{\\alpha/2}\\cdot\\sqrt{\\frac{\\sigma_1^2}{n_1}+\\frac{\\sigma_2^2}{n_2}}$$ in which the $\\alpha=0.01, \\sigma_1=\\sigma_2=\\sqrt{10}$, the code shows below."
   ]
  },
  {
   "cell_type": "code",
   "execution_count": null,
   "metadata": {
    "colab": {
     "base_uri": "https://localhost:8080/"
    },
    "executionInfo": {
     "elapsed": 13,
     "status": "ok",
     "timestamp": 1759897531783,
     "user": {
      "displayName": "韩冠宇",
      "userId": "17254618247528365656"
     },
     "user_tz": -480
    },
    "id": "57mQazjSEBdK",
    "outputId": "941708f2-5e6a-41ac-afdb-5605365f40da"
   },
   "outputs": [
    {
     "name": "stdout",
     "output_type": "stream",
     "text": [
      " the confidence interval of difference between μ1 and μ2 at the 95% confidence level： (-6.0894210693426025, -3.226710439395152)\n"
     ]
    }
   ],
   "source": [
    "alpha_d = 0.05\n",
    "z_d = norm.ppf(1 - alpha_d/2)\n",
    "se_d = np.sqrt(sigma1_sq/n1 + sigma2_sq/n2)\n",
    "margin_error_d = z_d * se_d\n",
    "ci_d = (float(x1_bar - x2_bar - margin_error_d), float(x1_bar - x2_bar + margin_error_d))\n",
    "print(\" the confidence interval of difference between μ1 and μ2 at the 95% confidence level：\", ci_d)"
   ]
  },
  {
   "cell_type": "markdown",
   "metadata": {
    "id": "QsSXQmdOEUc_"
   },
   "source": [
    "Q3(e) We know that $\\sigma_1^2=\\sigma_2^2$, but we don't know the pooled variance, then we use the Two-sample pooled variance t-distribution: $$(\\bar{X}_1 - \\bar{X}_2)\\pm z_{\\alpha/2}(n_1+n_2-2)\\cdot\\sqrt{S_p^2(\\frac{1}{n_1}+\\frac{1}{n_2})}$$ in which the $\\alpha=0.01$, the code shows below."
   ]
  },
  {
   "cell_type": "code",
   "execution_count": null,
   "metadata": {
    "colab": {
     "base_uri": "https://localhost:8080/"
    },
    "executionInfo": {
     "elapsed": 11,
     "status": "ok",
     "timestamp": 1759897708769,
     "user": {
      "displayName": "韩冠宇",
      "userId": "17254618247528365656"
     },
     "user_tz": -480
    },
    "id": "ohp_NetEEWZE",
    "outputId": "de3bde36-e305-4303-875e-139fc3adef09"
   },
   "outputs": [
    {
     "name": "stdout",
     "output_type": "stream",
     "text": [
      "he confidence interval of difference between μ1 and μ2 at the 99% confidence level： (-6.565462292304949, -2.7506692164328053)\n"
     ]
    }
   ],
   "source": [
    "alpha_e = 0.01\n",
    "\n",
    "sp_sq = ((n1-1)*s1_sq + (n2-1)*s2_sq) / (n1 + n2 - 2)\n",
    "t_e = t.ppf(1 - alpha_e/2, df=n1+n2-2)\n",
    "se_e = np.sqrt(sp_sq * (1/n1 + 1/n2))\n",
    "margin_error_e = t_e * se_e\n",
    "ci_e = (float(x1_bar - x2_bar - margin_error_e), float(x1_bar - x2_bar + margin_error_e))\n",
    "print(\"he confidence interval of difference between μ1 and μ2 at the 99% confidence level：\", ci_e)"
   ]
  },
  {
   "cell_type": "markdown",
   "metadata": {
    "id": "gadLiatlE_Tj"
   },
   "source": [
    "Q3(f) We already know the data mean as $\\mu_1=15$, then we can use Chi-square distribution:$$(\\frac{\\sum_{i=1}^{n_1}(X_{1i}-\\mu_1)^2}{\\chi_{\\alpha/2}^2(n_1)},\\frac{\\sum_{i=1}^{n_1}(X_{1i}-\\mu_1)^2}{\\chi_{1-\\alpha/2}^2(n_1)})$$ in which the $\\sum_{i=1}^{n_1}(X_{1i}-\\mu_1)^2$ means the sum of squared deviations from the mean we know, and the code shows below."
   ]
  },
  {
   "cell_type": "code",
   "execution_count": null,
   "metadata": {
    "colab": {
     "base_uri": "https://localhost:8080/"
    },
    "executionInfo": {
     "elapsed": 12,
     "status": "ok",
     "timestamp": 1759898076155,
     "user": {
      "displayName": "韩冠宇",
      "userId": "17254618247528365656"
     },
     "user_tz": -480
    },
    "id": "4g_LAFFUFBX8",
    "outputId": "5842b914-2a33-4440-cf03-b4925ebe7a81"
   },
   "outputs": [
    {
     "name": "stdout",
     "output_type": "stream",
     "text": [
      " the confidence interval of σ1² at the 95% confidence level： (74.86266813008828, 165.2392457060951)\n"
     ]
    }
   ],
   "source": [
    "alpha_f = 0.05\n",
    "mu1_known = 15\n",
    "sum_sq_f = np.sum((data1 - mu1_known)**2)\n",
    "chi2_upper = chi2.ppf(1 - alpha_f/2, df=n1)\n",
    "chi2_lower = chi2.ppf(alpha_f/2, df=n1)\n",
    "ci_f = (float(sum_sq_f / chi2_upper), float(sum_sq_f / chi2_lower))\n",
    "print(\" the confidence interval of σ1² at the 95% confidence level：\", ci_f)"
   ]
  },
  {
   "cell_type": "markdown",
   "metadata": {
    "id": "VwQdXdNlF-Zp"
   },
   "source": [
    "Q3(g) We don't know the data mean and variance, so we use the sample mean and variance instead, then we can use Chi-square distribution:$$(\\frac{(n_1-1)S_1^2}{\\chi_{\\alpha/2}^2(n_1-1)},\\frac{(n_1-1)S_1^2}{\\chi_{1-\\alpha/2}^2(n_1-1)})$$ in which the $S_1^2$ means the sample variance, and the code shows below."
   ]
  },
  {
   "cell_type": "code",
   "execution_count": null,
   "metadata": {
    "colab": {
     "base_uri": "https://localhost:8080/"
    },
    "executionInfo": {
     "elapsed": 13,
     "status": "ok",
     "timestamp": 1759898131882,
     "user": {
      "displayName": "韩冠宇",
      "userId": "17254618247528365656"
     },
     "user_tz": -480
    },
    "id": "zL98oqQdGAVB",
    "outputId": "31c00651-143c-4f2a-c187-6bbdb76cbed3"
   },
   "outputs": [
    {
     "name": "stdout",
     "output_type": "stream",
     "text": [
      " the confidence interval of σ1² at the 95% confidence level： (4.515452190940315, 10.04870196905197)\n"
     ]
    }
   ],
   "source": [
    "alpha_g = 0.05\n",
    "chi2_upper_g = chi2.ppf(1 - alpha_g/2, df=n1-1)  # 70.222\n",
    "chi2_lower_g = chi2.ppf(alpha_g/2, df=n1-1)      # 31.555\n",
    "ci_g = (float((n1-1)*s1_sq / chi2_upper_g), float((n1-1)*s1_sq / chi2_lower_g))\n",
    "print(\" the confidence interval of σ1² at the 95% confidence level：\", ci_g)"
   ]
  }
 ],
 "metadata": {
  "colab": {
   "authorship_tag": "ABX9TyOPjeikZiD2W9aOTmu3UY8L",
   "provenance": []
  },
  "kernelspec": {
   "display_name": "Python [conda env:base] *",
   "language": "python",
   "name": "conda-base-py"
  },
  "language_info": {
   "codemirror_mode": {
    "name": "ipython",
    "version": 3
   },
   "file_extension": ".py",
   "mimetype": "text/x-python",
   "name": "python",
   "nbconvert_exporter": "python",
   "pygments_lexer": "ipython3",
   "version": "3.12.7"
  }
 },
 "nbformat": 4,
 "nbformat_minor": 4
}
