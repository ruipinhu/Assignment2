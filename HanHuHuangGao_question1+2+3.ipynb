{
  "cells": [
 {
      "cell_type": "markdown",
      "metadata": {},
      "source": [
        "# Q1："
      ]
    },
    {
      "cell_type": "markdown",
      "metadata": {},
      "source": [
        "# Problem (a) Solution: One-Sample t-test"
      ]
    },
    {
      "cell_type": "markdown",
      "metadata": {},
      "source": [
        "### State the Hypotheses\n",
        "- Null hypothesis ($H_0$): The mean part length equals the standard value.\n",
        "  $H_0: \\mu = 10.0 \\, \\text{cm}$\n",
        "- Alternative hypothesis ($H_1$): The mean part length is significantly different from the standard value.\n",
        "  $H_1: \\mu \\neq 10.0 \\, \\text{cm}$ (Two-tailed test)"
      ]
    },
    {
      "cell_type": "code",
      "metadata": {},
      "source": [
        "# Given data\n",
        "sample_mean = 10.06  # Sample mean (cm)\n",
        "pop_mean = 10.0      # Hypothesized population mean (cm)\n",
        "sample_std = 0.19    # Sample standard deviation (cm)\n",
        "n = 25               # Sample size\n",
        "alpha = 0.05         # Significance level\n",
        "\n",
        "# Calculate test statistic (t-value)\n",
        "import numpy as np\n",
        "t_stat = (sample_mean - pop_mean) / (sample_std / np.sqrt(n))\n",
        "\n",
        "# Calculate critical t-value\n",
        "from scipy import stats\n",
        "df = n - 1  # Degrees of freedom\n",
        "t_critical = stats.t.ppf(1 - alpha/2, df)  # Two-tailed critical value\n",
        "\n",
        "print(f'Test statistic (t): {t_stat:.3f}')\n",
        "print(f'Degrees of freedom: {df}')\n",
        "print(f'Critical t-values: ±{t_critical:.3f}')"
      ],
      "execution_count": 1,
      "outputs": [
        {
          "output_type": "stream",
          "name": "stdout",
          "text": [
            "Test statistic (t): 1.579\n",
            "Degrees of freedom: 24\n",
            "Critical t-values: ±2.064\n"
          ]
        }
      ]
    },
    {
      "cell_type": "markdown",
      "metadata": {},
      "source": [
        "### Rejection Region\n",
        "The rejection region for a two-tailed test with $\\alpha = 0.05$ and $df = 24$ is:\n",
        "$t < -2.064$ or $t > 2.064$"
      ]
    },
    {
      "cell_type": "markdown",
      "metadata": {},
      "source": [
        "### Conclusion\n",
        "The calculated test statistic ($t = 1.579$) falls within the non-rejection region ($-2.064 < 1.579 < 2.064$).\n",
        "\n",
        "We fail to reject the null hypothesis $H_0$. At the $\\alpha = 0.05$ significance level, there is insufficient evidence to conclude that the mean part length differs from the standard value of 10.0 cm."
      ]
    },
    {
      "cell_type": "markdown",
      "metadata": {},
      "source": [
        "## Problem (b): p-value Calculation and Interpretation"
      ]
    },
    {
      "cell_type": "code",
      "metadata": {},
      "source": [
        "# Use previously defined variables (t_stat and df from part a)\n",
        "# Calculate p-value for two-tailed t-test\n",
        "p_value = 2 * (1 - stats.t.cdf(np.abs(t_stat), df))  # 双侧检验需乘2\n",
        "\n",
        "print(f'p-value: {p_value:.3f}')"
      ],
      "execution_count": 3,
      "outputs": [
        {
          "output_type": "stream",
          "name": "stdout",
          "text": [
            "p-value: 0.127\n"
          ]
        }
      ]
    },
    {
      "cell_type": "markdown",
      "metadata": {},
      "source": [
        "### Interpretation of p-value\n",
        "The p-value is 0.127, which is greater than the significance level α = 0.05.\n",
        "\n",
        "This indicates that if the null hypothesis (true mean = 10.0 cm) is true, there is a 12.7% probability of observing a test statistic as extreme as (or more extreme than) the calculated t-statistic (1.579).\n",
        "\n",
        "Since the p-value > α, we fail to reject the null hypothesis, confirming our conclusion from part (a)."
      ]
    },
{
"cell_type": "markdown",
      "metadata": {},
      "source": [
        "# Q2："
      ]
    },
{
   "cell_type": "markdown",
   "metadata": {},
   "source": [
    "# Solution to Hypothesis Testing and Bayesian Decision Problem\n",
    "## Problem Description\n",
    "Consider a hypothesis testing problem with parameter $\\theta \\in \\{0, 1\\}$ and prior distribution:\n",
    "$\\pi(0) = p, \\pi(1) = 1 - p, 0 \\leq p \\leq 1$\n",
    "\n",
    "Observed data $x \\in \\{0, 1\\}$ follows the conditional distribution:\n",
    "$f(x|\\theta) = \\begin{cases}\n",
    "  (2/3)^{1-x}(1/3)^x, & \\theta = 0 \\\\ \n",
    "  (1/4)^x(3/4)^{1-x}, & \\theta = 1\n",
    "\\end{cases}$\n",
    "\n",
    "The loss function is defined as:\n",
    "$L(\\theta, a) = \\begin{cases}\n",
    "  2(1 - a), & \\theta = 0 \\\\ \n",
    "  3a, & \\theta = 1\n",
    "\\end{cases}$ where $a \\in [0, 1]$"
   ]
  },
  {
   "cell_type": "markdown",
   "metadata": {},
   "source": [
    "## (a) Compute the Risk Function $R(\\theta, d)$\n",
    "The risk function is the expectation of the loss function over the data: $R(\\theta, d) = \\mathbb{E}[L(\\theta, d(x)) | \\theta]$"
   ]
  },
  {
   "cell_type": "code",
   "execution_count": 1,
   "metadata": {},
   "outputs": [
    {
     "name": "stdout",
     "output_type": "stream",
     "text": [
      "Risk Function Calculation:\n",
      "When θ=0:\n",
      "R(0, d) = 2*(1-d(0))*(2/3) + 2*(1-d(1))*(1/3)\n",
      "        = (4/3)*(1-d(0)) + (2/3)*(1-d(1))\n",
      "        = 2 - (4/3)d(0) - (2/3)d(1)\n",
      "\n",
      "When θ=1:\n",
      "R(1, d) = 3d(0)*(3/4) + 3d(1)*(1/4)\n",
      "        = (9/4)d(0) + (3/4)d(1)\n"
     ]
    }
   ],
   "source": [
    "print(\"Risk Function Calculation:\")\n",
    "print(\"When θ=0:\")\n",
    "print(\"R(0, d) = 2*(1-d(0))*(2/3) + 2*(1-d(1))*(1/3)\")\n",
    "print(\"        = (4/3)*(1-d(0)) + (2/3)*(1-d(1))\")\n",
    "print(\"        = 2 - (4/3)d(0) - (2/3)d(1)\")\n",
    "\n",
    "print(\"\\nWhen θ=1:\")\n",
    "print(\"R(1, d) = 3d(0)*(3/4) + 3d(1)*(1/4)\")\n",
    "print(\"        = (9/4)d(0) + (3/4)d(1)\")"
   ]
  },
  {
   "cell_type": "markdown",
   "metadata": {},
   "source": [
    "## (b) Derive the Bayes Risk $r(\\pi, d)$\n",
    "The Bayes risk is the prior expectation of the risk function: $r(\\pi, d) = \\pi(0)R(0, d) + \\pi(1)R(1, d)$"
   ]
  },
  {
   "cell_type": "code",
   "execution_count": 2,
   "metadata": {},
   "outputs": [
    {
     "name": "stdout",
     "output_type": "stream",
     "text": [
      "Bayes Risk Calculation:\n",
      "r(π, d) = p*R(0,d) + (1-p)*R(1,d)\n",
      "        = p*[2 - (4/3)d(0) - (2/3)d(1)] + (1-p)*[(9/4)d(0) + (3/4)d(1)]\n",
      "        = 2p + [-4p/3 + 9(1-p)/4]d(0) + [-2p/3 + 3(1-p)/4]d(1)\n",
      "\n",
      "Coefficient Simplification:\n",
      "A = (-4p/3 + 9(1-p)/4) = (27 - 43p)/12\n",
      "B = (-2p/3 + 3(1-p)/4) = (9 - 17p)/12\n",
      "C = 2p\n",
      "\n",
      "Thus: r(π, d) = (27-43p)/12 * d(0) + (9-17p)/12 * d(1) + 2p\n"
     ]
    }
   ],
   "source": [
    "print(\"Bayes Risk Calculation:\")\n",
    "print(\"r(π, d) = p*R(0,d) + (1-p)*R(1,d)\")\n",
    "print(\"        = p*[2 - (4/3)d(0) - (2/3)d(1)] + (1-p)*[(9/4)d(0) + (3/4)d(1)]\")\n",
    "print(\"        = 2p + [-4p/3 + 9(1-p)/4]d(0) + [-2p/3 + 3(1-p)/4]d(1)\")\n",
    "\n",
    "print(\"\\nCoefficient Simplification:\")\n",
    "print(\"A = (-4p/3 + 9(1-p)/4) = (27 - 43p)/12\")\n",
    "print(\"B = (-2p/3 + 3(1-p)/4) = (9 - 17p)/12\")\n",
    "print(\"C = 2p\")\n",
    "\n",
    "print(\"\\nThus: r(π, d) = (27-43p)/12 * d(0) + (9-17p)/12 * d(1) + 2p\")"
   ]
  },
  {
   "cell_type": "markdown",
   "metadata": {},
   "source": [
    "## (c) Determine the Bayes Rule $d_B(0), d_B(1)$\n",
    "The Bayes rule is obtained by minimizing the Bayes risk, which requires analyzing the signs of the coefficients"
   ]
  },
  {
   "cell_type": "code",
   "execution_count": 3,
   "metadata": {},
   "outputs": [
    {
     "name": "stdout",
     "output_type": "stream",
     "text": [
      "Key Threshold Calculation:\n",
      "When coefficient of d(0) = 0: 27 - 43p = 0 → p = 27/43 ≈ 0.6279\n",
      "When coefficient of d(1) = 0: 9 - 17p = 0 → p = 9/17 ≈ 0.5294\n",
      "\n",
      "Bayes Decision Rule Table:\n",
      "----------------------------------------\n",
      "Prior Probability p Range | d_B(0) | d_B(1)\n",
      "----------------------------------------\n",
      "0 ≤ p < 9/17             | 1      | 1\n",
      "p = 9/17                 | 1      | 0 or 1\n",
      "9/17 < p < 27/43         | 1      | 0\n",
      "p = 27/43                | 0 or 1 | 0\n",
      "27/43 < p ≤ 1            | 0      | 0\n",
      "----------------------------------------\n"
     ]
    }
   ],
   "source": [
    "import numpy as np\n",
    "\n",
    "p1 = 9/17\n",
    "p2 = 27/43\n",
    "\n",
    "print(\"Key Threshold Calculation:\")\n",
    f"When coefficient of d(0) = 0: 27 - 43p = 0 → p = 27/43 ≈ {p2:.4f}\n",
    f"When coefficient of d(1) = 0: 9 - 17p = 0 → p = 9/17 ≈ {p1:.4f}\n",
    "\n",
    "print(\"Bayes Decision Rule Table:\")\n",
    "print(\"----------------------------------------\")\n",
    "print(\"Prior Probability p Range | d_B(0) | d_B(1)\")\n",
    "print(\"----------------------------------------\")\n",
    f"0 ≤ p < 9/17             | 1      | 1\")\n",
    f"p = 9/17                 | 1      | 0 or 1\")\n",
    f"9/17 < p < 27/43         | 1      | 0\")\n",
    f"p = 27/43                | 0 or 1 | 0\")\n",
    f"27/43 < p ≤ 1            | 0      | 0\")\n",
    "print(\"----------------------------------------\")"
   ]
  },
  {
   "cell_type": "markdown",
   "metadata": {},
   "source": [
    "## (d) Compute the Posterior Distribution $\\pi(\\theta|x)$\n",
    "Use Bayes' Theorem: $\\pi(\\theta|x) = \\frac{\\pi(\\theta)f(x|\\theta)}{\\sum_{\\theta'} \\pi(\\theta')f(x|\\theta')}$"
   ]
  },
  {
   "cell_type": "code",
   "execution_count": 4,
   "metadata": {},
   "outputs": [
    {
     "name": "stdout",
     "output_type": "stream",
     "text": [
      "Posterior Distribution when x=0:\n",
      "π(0|0) = [p*(2/3)] / [p*(2/3) + (1-p)*(3/4)] = 8p/(9-p)\n",
      "π(1|0) = 1 - π(0|0) = (9-9p)/(9-p)\n",
      "\n",
      "Posterior Distribution when x=1:\n",
      "π(0|1) = [p*(1/3)] / [p*(1/3) + (1-p)*(1/4)] = 4p/(3+p)\n",
      "π(1|1) = 1 - π(0|1) = (3-3p)/(3+p)\n"
     ]
    }
   ],
   "source": [
    "print(\"Posterior Distribution when x=0:\")\n",
    "print(\"π(0|0) = [p*(2/3)] / [p*(2/3) + (1-p)*(3/4)] = 8p/(9-p)\")\n",
    "print(\"π(1|0) = 1 - π(0|0) = (9-9p)/(9-p)\")\n",
    "\n",
    "print(\"\\nPosterior Distribution when x=1:\")\n",
    "print(\"π(0|1) = [p*(1/3)] / [p*(1/3) + (1-p)*(1/4)] = 4p/(3+p)\")\n",
    "print(\"π(1|1) = 1 - π(0|1) = (3-3p)/(3+p)\")"
   ]
  },
  {
   "cell_type": "markdown",
   "metadata": {},
   "source": [
    "## (e) Verify the Posterior Expected Loss Minimization Approach\n",
    "For each x, choose d(x) to minimize the posterior expected loss: $\\mathbb{E}[L(\\theta, a)|x]$"
   ]
  },
  {
   "cell_type": "code",
   "execution_count": 5,
   "metadata": {},
   "outputs": [
    {
     "name": "stdout",
     "output_type": "stream",
     "text": [
      "Posterior Expected Loss when x=0:\n",
      "E[L(θ,a)|0] = π(0|0)·2(1-a) + π(1|0)·3a\n",
      "            = [8p/(9-p)]·2(1-a) + [(9-9p)/(9-p)]·3a\n",
      "            = 16p/(9-p) + [(27-43p)/(9-p)]·a\n",
      "When 27-43p > 0 (i.e., p < 27/43), a=0 minimizes the loss\n",
      "\n",
      "Posterior Expected Loss when x=1:\n",
      "E[L(θ,a)|1] = π(0|1)·2(1-a) + π(1|1)·3a\n",
      "            = [4p/(3+p)]·2(1-a) + [(3-3p)/(3+p)]·3a\n",
      "            = 8p/(3+p) + [(9-17p)/(3+p)]·a\n",
      "When 9-17p > 0 (i.e., p < 9/17), a=0 minimizes the loss\n",
      "\n",
      "Conclusion: The posterior expected loss minimization approach yields the same Bayes decision rule as before\n"
     ]
    }
   ],
   "source": [
    "print(\"Posterior Expected Loss when x=0:\")\n",
    "print(\"E[L(θ,a)|0] = π(0|0)·2(1-a) + π(1|0)·3a\")\n",
    "print(\"            = [8p/(9-p)]·2(1-a) + [(9-9p)/(9-p)]·3a\")\n",
    "print(\"            = 16p/(9-p) + [(27-43p)/(9-p)]·a\")\n",
    f"When 27-43p > 0 (i.e., p < {p2:.4f}), a=0 minimizes the loss\n" ,
    "\n",
    "print(\"Posterior Expected Loss when x=1:\")\n",
    "print(\"E[L(θ,a)|1] = π(0|1)·2(1-a) + π(1|1)·3a\")\n",
    "print(\"            = [4p/(3+p)]·2(1-a) + [(3-3p)/(3+p)]·3a\")\n",
    "print(\"            = 8p/(3+p) + [(9-17p)/(3+p)]·a\")\n",
    f"When 9-17p > 0 (i.e., p < {p1:.4f}), a=0 minimizes the loss\n" ,
    "\n",
    "print(\"Conclusion: The posterior expected loss minimization approach yields the same Bayes decision rule as before\")"
   ]
  }
  ],
  "metadata": {
    "colab": {
      "authorship_tag": "ABX9TyOPjeikZiD2W9aOTmu3UY8L",
      "provenance": []
    },
    "kernelspec": {
      "display_name": "Python [conda env:base] *",
      "language": "python",
      "name": "conda-base-py"
    },
    "language_info": {
      "codemirror_mode": {
        "name": "ipython",
        "version": 3
      },
      "file_extension": ".py",
      "mimetype": "text/x-python",
      "name": "python",
      "nbconvert_exporter": "python",
      "pygments_lexer": "ipython3",
      "version": "3.12.7"
    }
  },
  "nbformat": 4,
  "nbformat_minor": 4
}
