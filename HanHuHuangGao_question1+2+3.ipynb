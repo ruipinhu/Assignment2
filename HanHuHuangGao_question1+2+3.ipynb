{
  "cells": [
 {
      "cell_type": "markdown",
      "metadata": {},
      "source": [
        "# Q1："
      ]
    },
    {
      "cell_type": "markdown",
      "metadata": {},
      "source": [
        "# (a) Solution: One-Sample t-test"
      ]
    },
    {
      "cell_type": "markdown",
      "metadata": {},
      "source": [
        "### State the Hypotheses\n",
        "- Null hypothesis ($H_0$): The mean part length equals the standard value.\n",
        "  $H_0: \\mu = 10.0 \\, \\text{cm}$\n",
        "- Alternative hypothesis ($H_1$): The mean part length is significantly different from the standard value.\n",
        "  $H_1: \\mu \\neq 10.0 \\, \\text{cm}$ (Two-tailed test)"
      ]
    },
    {
      "cell_type": "code",
      "metadata": {},
      "source": [
        "# Given data\n",
        "sample_mean = 10.06  # Sample mean (cm)\n",
        "pop_mean = 10.0      # Hypothesized population mean (cm)\n",
        "sample_std = 0.19    # Sample standard deviation (cm)\n",
        "n = 25               # Sample size\n",
        "alpha = 0.05         # Significance level\n",
        "\n",
        "# Calculate test statistic (t-value)\n",
        "import numpy as np\n",
        "t_stat = (sample_mean - pop_mean) / (sample_std / np.sqrt(n))\n",
        "\n",
        "# Calculate critical t-value\n",
        "from scipy import stats\n",
        "df = n - 1  # Degrees of freedom\n",
        "t_critical = stats.t.ppf(1 - alpha/2, df)  # Two-tailed critical value\n",
        "\n",
        "print(f'Test statistic (t): {t_stat:.3f}')\n",
        "print(f'Degrees of freedom: {df}')\n",
        "print(f'Critical t-values: ±{t_critical:.3f}')"
      ],
      "execution_count": 1,
      "outputs": [
        {
          "output_type": "stream",
          "name": "stdout",
          "text": [
            "Test statistic (t): 1.579\n",
            "Degrees of freedom: 24\n",
            "Critical t-values: ±2.064\n"
          ]
        }
      ]
    },
    {
      "cell_type": "markdown",
      "metadata": {},
      "source": [
        "### Rejection Region\n",
        "The rejection region for a two-tailed test with $\\alpha = 0.05$ and $df = 24$ is:\n",
        "$t < -2.064$ or $t > 2.064$"
      ]
    },
    {
      "cell_type": "markdown",
      "metadata": {},
      "source": [
        "### Conclusion\n",
        "The calculated test statistic ($t = 1.579$) falls within the non-rejection region ($-2.064 < 1.579 < 2.064$).\n",
        "\n",
        "We fail to reject the null hypothesis $H_0$. At the $\\alpha = 0.05$ significance level, there is insufficient evidence to conclude that the mean part length differs from the standard value of 10.0 cm."
      ]
    },
    {
      "cell_type": "markdown",
      "metadata": {},
      "source": [
        "## (b): p-value Calculation and Interpretation"
      ]
    },
    {
      "cell_type": "code",
      "metadata": {},
      "source": [
        "# Use previously defined variables (t_stat and df from part a)\n",
        "# Calculate p-value for two-tailed t-test\n",
        "p_value = 2 * (1 - stats.t.cdf(np.abs(t_stat), df))  # 双侧检验需乘2\n",
        "\n",
        "print(f'p-value: {p_value:.3f}')"
      ],
      "execution_count": 3,
      "outputs": [
        {
          "output_type": "stream",
          "name": "stdout",
          "text": [
            "p-value: 0.127\n"
          ]
        }
      ]
    },
    {
      "cell_type": "markdown",
      "metadata": {},
      "source": [
        "### Interpretation of p-value\n",
        "The p-value is 0.127, which is greater than the significance level α = 0.05.\n",
        "\n",
        "This indicates that if the null hypothesis (true mean = 10.0 cm) is true, there is a 12.7% probability of observing a test statistic as extreme as (or more extreme than) the calculated t-statistic (1.579).\n",
        "\n",
        "Since the p-value > α, we fail to reject the null hypothesis, confirming our conclusion from part (a)."
      ]
    },



{
"cell_type": "markdown",
      "metadata": {},
      "source": [
        "# Q2："
      ]
    },
  {
   "cell_type": "markdown",
   "metadata": {},
   "source": [
    "## (a) Compute the Risk Function $R(\\theta, d)$\n",
    "The risk function is the expectation of the loss function over the data distribution, defined as:\n",
    "$R(\\theta, d) = \\mathbb{E}[L(\\theta, d(x)) | \\theta]$\n",
    "where $d(x)$ represents the decision rule ($d(0)$ for $x=0$ and $d(1)$ for $x=1$)."
   ]
  },
  {
   "cell_type": "markdown",
   "metadata": {},
   "source": [
    "### For $\\theta = 0$:\n",
    "- Loss function: $L(0, a) = 2(1 - a)$\n",
    "- Data distribution: $f(0|0) = 2/3$, $f(1|0) = 1/3$\n",
    "- Risk calculation:\n",
    "  \n",
    "$\\begin{align*}\n",
    "R(0, d) &= L(0, d(0)) \\cdot f(0|0) + L(0, d(1)) \\cdot f(1|0) \\\\\n",
    "&= 2(1 - d(0)) \\cdot \\frac{2}{3} + 2(1 - d(1)) \\cdot \\frac{1}{3} \\\\\n",
    "&= \\frac{4}{3}(1 - d(0)) + \\frac{2}{3}(1 - d(1)) \\\\\n",
    "&= 2 - \\frac{4}{3}d(0) - \\frac{2}{3}d(1)\n",
    "\\end{align*}$"
   ]
  },
  {
   "cell_type": "markdown",
   "metadata": {},
   "source": [
    "### For $\\theta = 1$:\n",
    "- Loss function: $L(1, a) = 3a$\n",
    "- Data distribution: $f(0|1) = 3/4$, $f(1|1) = 1/4$\n",
    "- Risk calculation:\n",
    "  \n",
    "$\\begin{align*}\n",
    "R(1, d) &= L(1, d(0)) \\cdot f(0|1) + L(1, d(1)) \\cdot f(1|1) \\\\\n",
    "&= 3d(0) \\cdot \\frac{3}{4} + 3d(1) \\cdot \\frac{1}{4} \\\\\n",
    "&= \\frac{9}{4}d(0) + \\frac{3}{4}d(1)\n",
    "\\end{align*}$"
   ]
  },
  {
   "cell_type": "markdown",
   "metadata": {},
   "source": [
    "## (b) Derive the Bayes Risk $r(\\pi, d)$\n",
    "The Bayes risk is the prior expectation of the risk function:\n",
    "$r(\\pi, d) = \\pi(0)R(0, d) + \\pi(1)R(1, d)$"
   ]
  },
  {
   "cell_type": "markdown",
   "metadata": {},
   "source": [
    "### Calculation:\n",
    "$\\begin{align*}\n",
    "r(\\pi, d) &= p \\cdot R(0, d) + (1-p) \\cdot R(1, d) \\\\\n",
    "&= p \\left[2 - \\frac{4}{3}d(0) - \\frac{2}{3}d(1)\\right] + (1-p) \\left[\\frac{9}{4}d(0) + \\frac{3}{4}d(1)\\right] \\\\\n",
    "&= 2p + \\left[-\\frac{4p}{3} + \\frac{9(1-p)}{4}\\right]d(0) + \\left[-\\frac{2p}{3} + \\frac{3(1-p)}{4}\\right]d(1)\n",
    "\\end{align*}$\n",
    "\n",
    "### Coefficient Simplification:\n",
    "- $A = -\\frac{4p}{3} + \\frac{9(1-p)}{4} = \\frac{27 - 43p}{12}$ (coefficient of $d(0)$)\n",
    "- $B = -\\frac{2p}{3} + \\frac{3(1-p)}{4} = \\frac{9 - 17p}{12}$ (coefficient of $d(1)$)\n",
    "- $C = 2p$ (constant term)\n",
    "\n",
    "Thus, the Bayes risk can be written as:\n",
    "$r(\\pi, d) = \\frac{27 - 43p}{12} \\cdot d(0) + \\frac{9 - 17p}{12} \\cdot d(1) + 2p$"
   ]
  },

 {
   "cell_type": "markdown",
   "metadata": {},
   "source": [
    "## (c) Determine the Bayes Rule $d_B(0), d_B(1)$\n",
    "The Bayes rule minimizes the Bayes risk by analyzing the signs of the coefficients of $d(0)$ and $d(1)$."
   ]
  },
{
   "cell_type": "markdown",
   "metadata": {},
   "source": [
    "# Problem 5(c): Analysis of Bayesian Decision Rules vs. Prior Probability \( p \)"
   ]
  },
  {
   "cell_type": "code",
   "execution_count": null,
   "metadata": {},
   "outputs": [],
   "source": [
    "import numpy as np\n",
    "import matplotlib.pyplot as plt\n",
    "import pandas as pd\n",
    "from IPython.display import display\n",
    "\n",
    "%matplotlib inline"
   ]
  },
  {
   "cell_type": "markdown",
   "metadata": {},
   "source": [
    "## 1. Identify Critical Points for Decision Rules"
   ]
  },
  {
   "cell_type": "code",
   "execution_count": null,
   "metadata": {},
   "outputs": [],
   "source": [
    "# Calculate critical points\n",
    "p1 = 9 / 17  # Critical value for d_B(1)\n",
    "p2 = 27 / 43  # Critical value for d_B(0)\n",
    "\n",
    "print(f'Critical Point 1: p = 9/17 ≈ {p1:.4f}')\n",
    "print(f'Critical Point 2: p = 27/43 ≈ {p2:.4f}')"
   ]
  },
  {
   "cell_type": "markdown",
   "metadata": {},
   "source": [
    "## 2. Analyze Decision Rules Across p Ranges"
   ]
  },
  {
   "cell_type": "code",
   "execution_count": null,
   "metadata": {},
   "outputs": [],
   "source": [
    "# Generate continuous values for p\n",
    "p_range = np.linspace(0, 1, 1000)\n",
    "\n",
    "# Initialize decision variables\n",
    "d0 = np.zeros_like(p_range)\n",
    "d1 = np.zeros_like(p_range)\n",
    "\n",
    "# Range 1: p < 9/17\n",
    "mask1 = p_range < p1\n",
    "d0[mask1] = 0\n",
    "d1[mask1] = 0\n",
    "\n",
    "# Range 2: 9/17 < p < 27/43\n",
    "mask2 = (p_range > p1) & (p_range < p2)\n",
    "d0[mask2] = 0\n",
    "d1[mask2] = 1\n",
    "\n",
    "# Range 3: p > 27/43\n",
    "mask3 = p_range > p2\n",
    "d0[mask3] = 1\n",
    "d1[mask3] = 1"
   ]
  },
  {
   "cell_type": "markdown",
   "metadata": {},
   "source": [
    "## 3. Visualize Decision Rules vs. p"
   ]
  },
  {
   "cell_type": "code",
   "execution_count": null,
   "metadata": {},
   "outputs": [],
   "source": [
    "plt.figure(figsize=(12, 6))\n",
    "\n",
    "# Plot decision curves\n",
    "plt.plot(p_range, d0, 'b-', linewidth=2, label='$d_B(0)$ (decision for x=0)')\n",
    "plt.plot(p_range, d1, 'r-', linewidth=2, label='$d_B(1)$ (decision for x=1)')\n",
    "\n",
    "# Mark critical points\n",
    "plt.axvline(x=p1, color='green', linestyle='--', alpha=0.7, \n",
    "            label=f'p = 9/17 ≈ {p1:.4f}')\n",
    "plt.axvline(x=p2, color='purple', linestyle='--', alpha=0.7, \n",
    "            label=f'p = 27/43 ≈ {p2:.4f}')\n",
    "\n",
    "# Add range annotations\n",
    "plt.text(0.2, 0.1, 'd0=0, d1=0', fontsize=12, bbox=dict(facecolor='white', alpha=0.8))\n",
    "plt.text(0.57, 0.1, 'd0=0, d1=1', fontsize=12, bbox=dict(facecolor='white', alpha=0.8))\n",
    "plt.text(0.8, 0.9, 'd0=1, d1=1', fontsize=12, bbox=dict(facecolor='white', alpha=0.8))\n",
    "\n",
    "# Plot settings\n",
    "plt.xlabel('Prior probability p (π(0) = p)', fontsize=14)\n",
    "plt.ylabel('Decision value a', fontsize=14)\n",
    "plt.title('Bayesian Decision Rules vs. Prior Probability p', fontsize=16)\n",
    "plt.ylim(-0.1, 1.1)\n",
    "plt.xlim(0, 1)\n",
    "plt.grid(alpha=0.3)\n",
    "plt.legend(fontsize=12)\n",
    "plt.show()"
   ]
  },
  {
   "cell_type": "markdown",
   "metadata": {},
   "source": [
    "## 4. Summary Table of Decision Rules"
   ]
  },
  {
   "cell_type": "code",
   "execution_count": null,
   "metadata": {},
   "outputs": [],
   "source": [
    "data = [\n",
    "    ['0 ≤ p < 9/17', '0', '0'],\n",
    "    ['9/17 < p < 27/43', '0', '1'],\n",
    "    ['27/43 < p ≤ 1', '1', '1'],\n",
    "    ['p = 9/17', '0', 'Any value ∈ [0,1]'],\n",
    "    ['p = 27/43', 'Any value ∈ [0,1]', '1']\n",
    "]\n",
    "\n",
    "df = pd.DataFrame(data, columns=['Prior Probability p', '$d_B(0)$', '$d_B(1)$'])\n",
    "display(df)"
   ]
  }
  ],
  "metadata": {
    "colab": {
      "authorship_tag": "ABX9TyOPjeikZiD2W9aOTmu3UY8L",
      "provenance": []
    },
    "kernelspec": {
      "display_name": "Python [conda env:base] *",
      "language": "python",
      "name": "conda-base-py"
    },
    "language_info": {
      "codemirror_mode": {
        "name": "ipython",
        "version": 3
      },
      "file_extension": ".py",
      "mimetype": "text/x-python",
      "name": "python",
      "nbconvert_exporter": "python",
      "pygments_lexer": "ipython3",
      "version": "3.12.7"
    }
  },
  "nbformat": 4,
  "nbformat_minor": 4
}
